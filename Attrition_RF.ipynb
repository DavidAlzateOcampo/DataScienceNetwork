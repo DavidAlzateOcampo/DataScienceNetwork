{
  "nbformat": 4,
  "nbformat_minor": 0,
  "metadata": {
    "colab": {
      "name": "Attrition_RF.ipynb",
      "version": "0.3.2",
      "provenance": [],
      "private_outputs": true,
      "include_colab_link": true
    },
    "kernelspec": {
      "name": "python3",
      "display_name": "Python 3"
    }
  },
  "cells": [
    {
      "cell_type": "markdown",
      "metadata": {
        "id": "view-in-github",
        "colab_type": "text"
      },
      "source": [
        "<a href=\"https://colab.research.google.com/github/DavidAlzateOcampo/DataScienceNetwork/blob/master/Attrition_RF.ipynb\" target=\"_parent\"><img src=\"https://colab.research.google.com/assets/colab-badge.svg\" alt=\"Open In Colab\"/></a>"
      ]
    },
    {
      "cell_type": "code",
      "metadata": {
        "id": "Z47hAfCUu0kq",
        "colab_type": "code",
        "colab": {}
      },
      "source": [
        "# Load the libraries needed \n",
        "from sklearn.datasets import load_iris\n",
        "from sklearn.ensemble import RandomForestClassifier\n",
        "from sklearn.model_selection import train_test_split\n",
        "from sklearn.tree import export_graphviz\n",
        "from sklearn.metrics import classification_report\n",
        "from sklearn.metrics import accuracy_score\n",
        "from sklearn.metrics import confusion_matrix\n",
        "from sklearn.ensemble import RandomForestClassifier\n",
        "from sklearn import model_selection\n",
        "from sklearn.preprocessing import LabelEncoder\n",
        "from sklearn import metrics\n",
        "\n",
        "import pandas as pd\n",
        "import numpy as np\n",
        "\n",
        "import seaborn as sns\n",
        "import matplotlib.pyplot as plt\n",
        "import matplotlib.image as mpimg\n",
        "import glob\n",
        "# Set random seed\n",
        "np.random.seed(0)"
      ],
      "execution_count": 0,
      "outputs": []
    },
    {
      "cell_type": "code",
      "metadata": {
        "id": "TaGFKSDDrP9S",
        "colab_type": "code",
        "colab": {}
      },
      "source": [
        "import pandas as pd\n",
        "\n",
        "df = pd.read_csv('/content/drive/My Drive/Datasets/Attrition/attrition_kaggle.csv')\n",
        "\n",
        "df.head()\n"
      ],
      "execution_count": 0,
      "outputs": []
    },
    {
      "cell_type": "code",
      "metadata": {
        "id": "QlwSWFMH0Tyz",
        "colab_type": "code",
        "colab": {}
      },
      "source": [
        "# Empty list to store columns with categorical data\n",
        "categorical = []\n",
        "for col, value in df.iteritems():\n",
        "    if value.dtype == 'object':\n",
        "        categorical.append(col)\n",
        "        \n",
        "# Store the numerical columns in a list numerical\n",
        "numerical = df.columns.difference(categorical)\n",
        "\n",
        "# Store the categorical data in a dataframe called attrition_cat\n",
        "df_cat = df[categorical]\n",
        "df_cat = df_cat.drop(['Attrition'], axis=1) # Dropping the target column\n",
        "\n",
        "df_cat = pd.get_dummies(df_cat)\n",
        "\n",
        "df_num = df[numerical]\n",
        "# Concat the two dataframes together columnwise\n",
        "df_final = []\n",
        "df_final = pd.concat([df_num, df_cat], axis=1)\n",
        "df_final.head()"
      ],
      "execution_count": 0,
      "outputs": []
    },
    {
      "cell_type": "code",
      "metadata": {
        "id": "VQN2B5JVtncW",
        "colab_type": "code",
        "colab": {}
      },
      "source": [
        "\n",
        "X=df_final\n",
        "y=df['Attrition'] \n",
        "\n",
        "X_train, X_test, y_train, y_test = train_test_split(X, y, test_size=0.3) # 70% training and 30% test\n",
        "\n",
        "X_train.head()"
      ],
      "execution_count": 0,
      "outputs": []
    },
    {
      "cell_type": "code",
      "metadata": {
        "id": "9rZWKf4_u9uJ",
        "colab_type": "code",
        "colab": {}
      },
      "source": [
        "import numpy as np\n",
        "x = np.arange(1000)\n",
        "y = np.zeros(1000)\n",
        "\n",
        "for j in x:\n",
        "    predRF_V = RandomForestClassifier(n_estimators=j+1)\n",
        "    #Train the model using the training sets y_pred = clf.predict(X_test)\n",
        "    predRF_V.fit(X_train,y_train)\n",
        "    y_pred=predRF_V.predict(X_test)\n",
        "    # Model Accuracy, how often is the classifier correct?\n",
        "    x[j] = x[j]+1\n",
        "    y[j] = metrics.accuracy_score(y_test, y_pred)\n",
        "    #print(\"Accuracy \", y[j] , \" for \", x[j],\" trees\")\n",
        "\n",
        "plt.plot(x,y)\n"
      ],
      "execution_count": 0,
      "outputs": []
    },
    {
      "cell_type": "code",
      "metadata": {
        "id": "3j5pnYf56WAr",
        "colab_type": "code",
        "colab": {}
      },
      "source": [
        "print(y.max)"
      ],
      "execution_count": 0,
      "outputs": []
    }
  ]
}