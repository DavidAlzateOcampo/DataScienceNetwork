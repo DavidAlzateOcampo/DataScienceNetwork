{
  "nbformat": 4,
  "nbformat_minor": 0,
  "metadata": {
    "colab": {
      "name": "KNN_assignment.ipynb",
      "provenance": [],
      "collapsed_sections": [],
      "include_colab_link": true
    },
    "kernelspec": {
      "name": "python3",
      "display_name": "Python 3"
    }
  },
  "cells": [
    {
      "cell_type": "markdown",
      "metadata": {
        "id": "view-in-github",
        "colab_type": "text"
      },
      "source": [
        "<a href=\"https://colab.research.google.com/github/DavidAlzateOcampo/DataScienceNetwork/blob/master/KNN_assignment.ipynb\" target=\"_parent\"><img src=\"https://colab.research.google.com/assets/colab-badge.svg\" alt=\"Open In Colab\"/></a>"
      ]
    },
    {
      "cell_type": "code",
      "metadata": {
        "id": "DsJ_G8LY2zXB",
        "colab_type": "code",
        "colab": {}
      },
      "source": [
        "#Load packages\n",
        "import pandas as pd\n",
        "from sklearn.tree import DecisionTreeClassifier \n",
        "from sklearn.model_selection import train_test_split\n",
        "from sklearn import metrics \n",
        "from sklearn.neighbors import KNeighborsClassifier \n",
        "import matplotlib.pyplot as plt \n",
        "import numpy as np\n",
        "import pandas as pd\n",
        "from sklearn import preprocessing"
      ],
      "execution_count": 0,
      "outputs": []
    },
    {
      "cell_type": "code",
      "metadata": {
        "id": "F0tyynDd2-MY",
        "colab_type": "code",
        "colab": {}
      },
      "source": [
        "#Loading the data\n",
        "raw_dataset = pd.read_csv(\"/content/sample_data/bank-full.csv\", header = 0, delimiter = ';')"
      ],
      "execution_count": 0,
      "outputs": []
    },
    {
      "cell_type": "code",
      "metadata": {
        "id": "ajApRb5o3F2a",
        "colab_type": "code",
        "colab": {}
      },
      "source": [
        "#Lets do some feature selection \n",
        "feature_names = ['age', 'balance', 'duration','marital','education']\n",
        "X = raw_dataset[feature_names] #Selected features\n",
        "y = raw_dataset.y #Target feature (i.e., class label)"
      ],
      "execution_count": 0,
      "outputs": []
    },
    {
      "cell_type": "code",
      "metadata": {
        "id": "e0FTQY3w655v",
        "colab_type": "code",
        "colab": {
          "base_uri": "https://localhost:8080/",
          "height": 215
        },
        "outputId": "a7d6babd-eaff-4ed4-fa8e-88000f23cde1"
      },
      "source": [
        "# Empty list to store columns with categorical data\n",
        "categorical = []\n",
        "for col, value in X.iteritems():\n",
        "    if value.dtype == 'object':\n",
        "        categorical.append(col)\n",
        "        \n",
        "# Store the numerical columns in a list numerical\n",
        "numerical = X.columns.difference(categorical)\n",
        "\n",
        "# Store the categorical data in a dataframe called attrition_cat\n",
        "X_cat = X[categorical]\n",
        "X_cat = pd.get_dummies(X_cat)\n",
        "X_num = X[numerical]\n",
        "# Concat the two dataframes together columnwise\n",
        "X_final = []\n",
        "X_final = pd.concat([X_num, X_cat], axis=1)\n",
        "X_final.head()"
      ],
      "execution_count": 6,
      "outputs": [
        {
          "output_type": "execute_result",
          "data": {
            "text/html": [
              "<div>\n",
              "<style scoped>\n",
              "    .dataframe tbody tr th:only-of-type {\n",
              "        vertical-align: middle;\n",
              "    }\n",
              "\n",
              "    .dataframe tbody tr th {\n",
              "        vertical-align: top;\n",
              "    }\n",
              "\n",
              "    .dataframe thead th {\n",
              "        text-align: right;\n",
              "    }\n",
              "</style>\n",
              "<table border=\"1\" class=\"dataframe\">\n",
              "  <thead>\n",
              "    <tr style=\"text-align: right;\">\n",
              "      <th></th>\n",
              "      <th>age</th>\n",
              "      <th>balance</th>\n",
              "      <th>duration</th>\n",
              "      <th>marital_divorced</th>\n",
              "      <th>marital_married</th>\n",
              "      <th>marital_single</th>\n",
              "      <th>education_primary</th>\n",
              "      <th>education_secondary</th>\n",
              "      <th>education_tertiary</th>\n",
              "      <th>education_unknown</th>\n",
              "    </tr>\n",
              "  </thead>\n",
              "  <tbody>\n",
              "    <tr>\n",
              "      <th>0</th>\n",
              "      <td>58</td>\n",
              "      <td>2143</td>\n",
              "      <td>261</td>\n",
              "      <td>0</td>\n",
              "      <td>1</td>\n",
              "      <td>0</td>\n",
              "      <td>0</td>\n",
              "      <td>0</td>\n",
              "      <td>1</td>\n",
              "      <td>0</td>\n",
              "    </tr>\n",
              "    <tr>\n",
              "      <th>1</th>\n",
              "      <td>44</td>\n",
              "      <td>29</td>\n",
              "      <td>151</td>\n",
              "      <td>0</td>\n",
              "      <td>0</td>\n",
              "      <td>1</td>\n",
              "      <td>0</td>\n",
              "      <td>1</td>\n",
              "      <td>0</td>\n",
              "      <td>0</td>\n",
              "    </tr>\n",
              "    <tr>\n",
              "      <th>2</th>\n",
              "      <td>33</td>\n",
              "      <td>2</td>\n",
              "      <td>76</td>\n",
              "      <td>0</td>\n",
              "      <td>1</td>\n",
              "      <td>0</td>\n",
              "      <td>0</td>\n",
              "      <td>1</td>\n",
              "      <td>0</td>\n",
              "      <td>0</td>\n",
              "    </tr>\n",
              "    <tr>\n",
              "      <th>3</th>\n",
              "      <td>47</td>\n",
              "      <td>1506</td>\n",
              "      <td>92</td>\n",
              "      <td>0</td>\n",
              "      <td>1</td>\n",
              "      <td>0</td>\n",
              "      <td>0</td>\n",
              "      <td>0</td>\n",
              "      <td>0</td>\n",
              "      <td>1</td>\n",
              "    </tr>\n",
              "    <tr>\n",
              "      <th>4</th>\n",
              "      <td>33</td>\n",
              "      <td>1</td>\n",
              "      <td>198</td>\n",
              "      <td>0</td>\n",
              "      <td>0</td>\n",
              "      <td>1</td>\n",
              "      <td>0</td>\n",
              "      <td>0</td>\n",
              "      <td>0</td>\n",
              "      <td>1</td>\n",
              "    </tr>\n",
              "  </tbody>\n",
              "</table>\n",
              "</div>"
            ],
            "text/plain": [
              "   age  balance  ...  education_tertiary  education_unknown\n",
              "0   58     2143  ...                   1                  0\n",
              "1   44       29  ...                   0                  0\n",
              "2   33        2  ...                   0                  0\n",
              "3   47     1506  ...                   0                  1\n",
              "4   33        1  ...                   0                  1\n",
              "\n",
              "[5 rows x 10 columns]"
            ]
          },
          "metadata": {
            "tags": []
          },
          "execution_count": 6
        }
      ]
    },
    {
      "cell_type": "markdown",
      "metadata": {
        "id": "vGjWV9gtpsvp",
        "colab_type": "text"
      },
      "source": [
        "+ (1) - Write a code to perform min-max normalization on bank dataset.\n",
        "\n",
        "**David :** The following code applies a MinMax normalization to all columns. Using the preprocessing.MinMaxScaler function."
      ]
    },
    {
      "cell_type": "code",
      "metadata": {
        "id": "RkaBaP_8n6R4",
        "colab_type": "code",
        "colab": {
          "base_uri": "https://localhost:8080/",
          "height": 215
        },
        "outputId": "8a180523-90c3-484a-df74-5bef05feb125"
      },
      "source": [
        "min_max_scaler = preprocessing.MinMaxScaler()\n",
        "x_scaled = min_max_scaler.fit_transform(X_final)\n",
        "X_final_scaled = pd.DataFrame(x_scaled)\n",
        "X_final_scaled.columns = X_final.columns\n",
        "X_final_scaled.head()"
      ],
      "execution_count": 7,
      "outputs": [
        {
          "output_type": "execute_result",
          "data": {
            "text/html": [
              "<div>\n",
              "<style scoped>\n",
              "    .dataframe tbody tr th:only-of-type {\n",
              "        vertical-align: middle;\n",
              "    }\n",
              "\n",
              "    .dataframe tbody tr th {\n",
              "        vertical-align: top;\n",
              "    }\n",
              "\n",
              "    .dataframe thead th {\n",
              "        text-align: right;\n",
              "    }\n",
              "</style>\n",
              "<table border=\"1\" class=\"dataframe\">\n",
              "  <thead>\n",
              "    <tr style=\"text-align: right;\">\n",
              "      <th></th>\n",
              "      <th>age</th>\n",
              "      <th>balance</th>\n",
              "      <th>duration</th>\n",
              "      <th>marital_divorced</th>\n",
              "      <th>marital_married</th>\n",
              "      <th>marital_single</th>\n",
              "      <th>education_primary</th>\n",
              "      <th>education_secondary</th>\n",
              "      <th>education_tertiary</th>\n",
              "      <th>education_unknown</th>\n",
              "    </tr>\n",
              "  </thead>\n",
              "  <tbody>\n",
              "    <tr>\n",
              "      <th>0</th>\n",
              "      <td>0.519481</td>\n",
              "      <td>0.092259</td>\n",
              "      <td>0.053070</td>\n",
              "      <td>0.0</td>\n",
              "      <td>1.0</td>\n",
              "      <td>0.0</td>\n",
              "      <td>0.0</td>\n",
              "      <td>0.0</td>\n",
              "      <td>1.0</td>\n",
              "      <td>0.0</td>\n",
              "    </tr>\n",
              "    <tr>\n",
              "      <th>1</th>\n",
              "      <td>0.337662</td>\n",
              "      <td>0.073067</td>\n",
              "      <td>0.030704</td>\n",
              "      <td>0.0</td>\n",
              "      <td>0.0</td>\n",
              "      <td>1.0</td>\n",
              "      <td>0.0</td>\n",
              "      <td>1.0</td>\n",
              "      <td>0.0</td>\n",
              "      <td>0.0</td>\n",
              "    </tr>\n",
              "    <tr>\n",
              "      <th>2</th>\n",
              "      <td>0.194805</td>\n",
              "      <td>0.072822</td>\n",
              "      <td>0.015453</td>\n",
              "      <td>0.0</td>\n",
              "      <td>1.0</td>\n",
              "      <td>0.0</td>\n",
              "      <td>0.0</td>\n",
              "      <td>1.0</td>\n",
              "      <td>0.0</td>\n",
              "      <td>0.0</td>\n",
              "    </tr>\n",
              "    <tr>\n",
              "      <th>3</th>\n",
              "      <td>0.376623</td>\n",
              "      <td>0.086476</td>\n",
              "      <td>0.018707</td>\n",
              "      <td>0.0</td>\n",
              "      <td>1.0</td>\n",
              "      <td>0.0</td>\n",
              "      <td>0.0</td>\n",
              "      <td>0.0</td>\n",
              "      <td>0.0</td>\n",
              "      <td>1.0</td>\n",
              "    </tr>\n",
              "    <tr>\n",
              "      <th>4</th>\n",
              "      <td>0.194805</td>\n",
              "      <td>0.072812</td>\n",
              "      <td>0.040260</td>\n",
              "      <td>0.0</td>\n",
              "      <td>0.0</td>\n",
              "      <td>1.0</td>\n",
              "      <td>0.0</td>\n",
              "      <td>0.0</td>\n",
              "      <td>0.0</td>\n",
              "      <td>1.0</td>\n",
              "    </tr>\n",
              "  </tbody>\n",
              "</table>\n",
              "</div>"
            ],
            "text/plain": [
              "        age   balance  ...  education_tertiary  education_unknown\n",
              "0  0.519481  0.092259  ...                 1.0                0.0\n",
              "1  0.337662  0.073067  ...                 0.0                0.0\n",
              "2  0.194805  0.072822  ...                 0.0                0.0\n",
              "3  0.376623  0.086476  ...                 0.0                1.0\n",
              "4  0.194805  0.072812  ...                 0.0                1.0\n",
              "\n",
              "[5 rows x 10 columns]"
            ]
          },
          "metadata": {
            "tags": []
          },
          "execution_count": 7
        }
      ]
    },
    {
      "cell_type": "markdown",
      "metadata": {
        "id": "Vy2sJq0iFGKg",
        "colab_type": "text"
      },
      "source": [
        " + (2) Experiment with a range of values for k and find an appropriate value for it. \n",
        "\n",
        " **David** :  The accuracy started settling after k > 15. After this values changes were minimun in the accuracy. Therefore with k greater than 15, the accuracy became stable. \n",
        " \n",
        "  Also the maximun accuracy was obtained with k - 22, with accuracy of 0.89. \n",
        "\n"
      ]
    },
    {
      "cell_type": "code",
      "metadata": {
        "id": "2TFWEIECtaMw",
        "colab_type": "code",
        "colab": {
          "base_uri": "https://localhost:8080/",
          "height": 367
        },
        "outputId": "1048767e-8bd2-4804-8944-3a87b23a8554"
      },
      "source": [
        "#The full dataset is randomly divided into the \"train\" and \"test\" sets\n",
        "X_sc_train, X_sc_test, y_sc_train, y_sc_test = train_test_split(X_final_scaled, y, test_size = 0.2, random_state = 1) \n",
        "accuracy = []\n",
        "for i in range(1, 31):\n",
        "    knn = KNeighborsClassifier(metric = 'euclidean', n_neighbors=i)\n",
        "    knn.fit(X_sc_train, y_sc_train)\n",
        "    y_sc_pred = knn.predict(X_sc_test)\n",
        "    accuracy.append(metrics.accuracy_score(y_sc_test, y_sc_pred))\n",
        "\n",
        "plt.figure(figsize=(10, 5))\n",
        "plt.plot(range(1, 31), accuracy, color='red', linestyle='dashed', marker='o', markerfacecolor='blue', markersize=10)\n",
        "plt.title('Accuracy for a range of k values')\n",
        "plt.xticks(np.arange(0, 30, 1.0))\n",
        "plt.xlabel('k Value')\n",
        "plt.ylabel('Accuracy')"
      ],
      "execution_count": 8,
      "outputs": [
        {
          "output_type": "execute_result",
          "data": {
            "text/plain": [
              "Text(0, 0.5, 'Accuracy')"
            ]
          },
          "metadata": {
            "tags": []
          },
          "execution_count": 8
        },
        {
          "output_type": "display_data",
          "data": {
            "image/png": "[encoded data removed]",
            "text/plain": [
              "<Figure size 720x360 with 1 Axes>"
            ]
          },
          "metadata": {
            "tags": []
          }
        }
      ]
    },
    {
      "cell_type": "code",
      "metadata": {
        "id": "odzlYFCz0If0",
        "colab_type": "code",
        "colab": {
          "base_uri": "https://localhost:8080/",
          "height": 34
        },
        "outputId": "ddbebd68-4387-458d-89cf-808bd2e71e89"
      },
      "source": [
        "print(\"Maximun accuracy was \",np.max(accuracy), \" with k = \", np.argmax(accuracy)-1)"
      ],
      "execution_count": 22,
      "outputs": [
        {
          "output_type": "stream",
          "text": [
            "Maximun accuracy was  0.8900807254229791  with k =  22\n"
          ],
          "name": "stdout"
        }
      ]
    },
    {
      "cell_type": "markdown",
      "metadata": {
        "id": "1N4yWBF9tah5",
        "colab_type": "text"
      },
      "source": [
        " + (3) Compare the accuracy of kNN against Decision Trees. What is your conclusion? \n",
        " \n",
        " **David** : The KNN algorithm reached a maximun accuracy of 0.89 compared with 0.88 obtained with tree algorithm with an optimal value of depth of 5 feactures.\n",
        " \n",
        " Even though KNN algorithm performed better, it loses any sense of explicability, but the treemodel has an explicability model, that for business purpose is very important to understand how a business process is affected by the features. \n",
        "\n",
        " Last but not least, the curve of accuracy generated by the tree model start to decays after depth greater than 10, and the possible reason is that dataset only has 10 features, and afterthat the algorithm does not work properly."
      ]
    },
    {
      "cell_type": "code",
      "metadata": {
        "id": "w-W75MI9738A",
        "colab_type": "code",
        "colab": {
          "base_uri": "https://localhost:8080/",
          "height": 367
        },
        "outputId": "c5365827-7c1b-4d7b-d4bf-02c2bc84a61e"
      },
      "source": [
        "accuracy_tree =  []\n",
        "for i in range(1, 31):\n",
        "    tree = DecisionTreeClassifier(criterion='entropy', max_depth = i)\n",
        "    tree.fit(X_sc_train, y_sc_train)\n",
        "    y_sc_pred_t = tree.predict(X_sc_test)\n",
        "    accuracy_tree.append(metrics.accuracy_score(y_sc_test, y_sc_pred_t))\n",
        "\n",
        "plt.figure(figsize=(10, 5))\n",
        "plt.plot(range(1, 31), accuracy_tree, color='red', linestyle='dashed', marker='o', markerfacecolor='blue', markersize=10)\n",
        "plt.title('Accuracy for a range of n depth')\n",
        "plt.xticks(np.arange(0, 30, 1.0))\n",
        "plt.xlabel('n depth')\n",
        "plt.ylabel('Accuracy')"
      ],
      "execution_count": 28,
      "outputs": [
        {
          "output_type": "execute_result",
          "data": {
            "text/plain": [
              "Text(0, 0.5, 'Accuracy')"
            ]
          },
          "metadata": {
            "tags": []
          },
          "execution_count": 28
        },
        {
          "output_type": "display_data",
          "data": {
            "image/png": "[encoded data removed]",
            "text/plain": [
              "<Figure size 720x360 with 1 Axes>"
            ]
          },
          "metadata": {
            "tags": []
          }
        }
      ]
    },
    {
      "cell_type": "code",
      "metadata": {
        "id": "ETcDsPYz6Qqq",
        "colab_type": "code",
        "colab": {
          "base_uri": "https://localhost:8080/",
          "height": 34
        },
        "outputId": "9688719e-745e-4192-be29-1a338a5989a5"
      },
      "source": [
        "print(\"Maximun accuracy was \",np.max(accuracy_tree),\" with depth of \", np.argmax(accuracy_tree)-1)"
      ],
      "execution_count": 27,
      "outputs": [
        {
          "output_type": "stream",
          "text": [
            "Maximun accuracy was  0.8894172287957536  with depth of  5\n"
          ],
          "name": "stdout"
        }
      ]
    },
    {
      "cell_type": "markdown",
      "metadata": {
        "id": "noIc4I97IWu0",
        "colab_type": "text"
      },
      "source": [
        "**David:** I trained the model but changing the max_depth to 4. It slightly improved the accuracy by 0.03%. "
      ]
    }
  ]
}